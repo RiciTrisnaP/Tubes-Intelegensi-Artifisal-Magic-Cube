{
 "cells": [
  {
   "cell_type": "code",
   "execution_count": 16,
   "metadata": {},
   "outputs": [],
   "source": [
    "import jupyter_manim"
   ]
  },
  {
   "cell_type": "code",
   "execution_count": 17,
   "metadata": {},
   "outputs": [],
   "source": [
    "from manim import *\n",
    "\n",
    "\n",
    "class Axes3DExample(ThreeDScene):\n",
    "    def construct(self):\n",
    "        axes = ThreeDAxes()\n",
    "\n",
    "        x_label = axes.get_x_axis_label(Tex(\"x\"))\n",
    "        y_label = axes.get_y_axis_label(Tex(\"y\")).shift(UP * 1.8)\n",
    "\n",
    "        # 3D variant of the Dot() object\n",
    "        dot = Dot3D()\n",
    "\n",
    "        # zoom out so we see the axes\n",
    "        self.set_camera_orientation(zoom=0.5)\n",
    "\n",
    "        self.play(FadeIn(axes), FadeIn(dot), FadeIn(x_label), FadeIn(y_label))\n",
    "\n",
    "        self.wait(0.5)\n",
    "\n",
    "        # animate the move of the camera to properly see the axes\n",
    "        self.move_camera(phi=75 * DEGREES, theta=30 * DEGREES, zoom=1, run_time=1.5)\n",
    "\n",
    "        # built-in updater which begins camera rotation\n",
    "        self.begin_ambient_camera_rotation(rate=0.15)\n",
    "\n",
    "        # one dot for each direction\n",
    "        upDot = dot.copy().set_color(RED)\n",
    "        rightDot = dot.copy().set_color(BLUE)\n",
    "        outDot = dot.copy().set_color(GREEN)\n",
    "\n",
    "        self.wait(1)\n",
    "\n",
    "        self.play(\n",
    "            upDot.animate.shift(UP),\n",
    "            rightDot.animate.shift(RIGHT),\n",
    "            outDot.animate.shift(OUT),\n",
    "        )\n",
    "\n",
    "        self.wait(2)\n"
   ]
  },
  {
   "cell_type": "code",
   "execution_count": null,
   "metadata": {},
   "outputs": [],
   "source": []
  }
 ],
 "metadata": {
  "kernelspec": {
   "display_name": "Python 3",
   "language": "python",
   "name": "python3"
  },
  "language_info": {
   "codemirror_mode": {
    "name": "ipython",
    "version": 3
   },
   "file_extension": ".py",
   "mimetype": "text/x-python",
   "name": "python",
   "nbconvert_exporter": "python",
   "pygments_lexer": "ipython3",
   "version": "3.12.0"
  }
 },
 "nbformat": 4,
 "nbformat_minor": 2
}
